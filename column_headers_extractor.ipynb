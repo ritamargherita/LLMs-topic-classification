{
 "cells": [
  {
   "cell_type": "code",
   "execution_count": 1,
   "id": "04e65d6b",
   "metadata": {},
   "outputs": [],
   "source": [
    "import pandas as pd\n",
    "import re"
   ]
  },
  {
   "cell_type": "code",
   "execution_count": 2,
   "id": "8616ef21",
   "metadata": {},
   "outputs": [],
   "source": [
    "#path_to_input_file = '/Users/brain/Documents/GitHub/LLMs-topic-classification/data/Education_expenditure_and_indicators/data.csv'\n",
    "#path_to_input_file = '/Users/brain/Documents/GitHub/LLMs-topic-classification/data/Health_expectancy/data.csv'\n",
    "#path_to_input_file = '/Users/brain/Documents/GitHub/LLMs-topic-classification/data/Listed_monuments/data.csv'\n",
    "#path_to_input_file = '/Users/brain/Documents/GitHub/LLMs-topic-classification/data/Livestock/data.csv'\n",
    "#path_to_input_file = '/Users/brain/Documents/GitHub/LLMs-topic-classification/data/Milk_supply_and_dairy_production/data.csv'\n",
    "#path_to_input_file = '/Users/brain/Documents/GitHub/LLMs-topic-classification/data/Mobility/data.csv'\n",
    "#path_to_input_file = '/Users/brain/Documents/GitHub/LLMs-topic-classification/data/Plant_protection_products/data.csv'\n",
    "#path_to_input_file = '/Users/brain/Documents/GitHub/LLMs-topic-classification/data/Population_dynamics/data.csv'\n",
    "#path_to_input_file = '/Users/brain/Documents/GitHub/LLMs-topic-classification/data/Social_security/data.csv'\n",
    "path_to_input_file = '/Users/brain/Documents/GitHub/LLMs-topic-classification/data/Trade_and_industry/data.csv'"
   ]
  },
  {
   "cell_type": "code",
   "execution_count": 3,
   "id": "bc4f5e3d",
   "metadata": {},
   "outputs": [],
   "source": [
    "#path_to_output_file = '/Users/brain/Documents/GitHub/LLMs-topic-classification/data/Education_expenditure_and_indicators/transformed_headers.txt'\n",
    "#path_to_output_file = '/Users/brain/Documents/GitHub/LLMs-topic-classification/data/Health_expectancy/transformed_headers.txt'\n",
    "#path_to_output_file = '/Users/brain/Documents/GitHub/LLMs-topic-classification/data/Listed_monuments/transformed_headers.txt'\n",
    "#path_to_output_file = '/Users/brain/Documents/GitHub/LLMs-topic-classification/data/Livestock/transformed_headers.txt'\n",
    "#path_to_output_file = '/Users/brain/Documents/GitHub/LLMs-topic-classification/data/Milk_supply_and_dairy_production/transformed_headers.txt'\n",
    "#path_to_output_file = '/Users/brain/Documents/GitHub/LLMs-topic-classification/data/Mobility/transformed_headers.txt'\n",
    "#path_to_output_file = '/Users/brain/Documents/GitHub/LLMs-topic-classification/data/Plant_protection_products/transformed_headers.txt'\n",
    "#path_to_output_file = '/Users/brain/Documents/GitHub/LLMs-topic-classification/data/Population_dynamics/transformed_headers.txt'\n",
    "#path_to_output_file = '/Users/brain/Documents/GitHub/LLMs-topic-classification/data/Social_security/transformed_headers.txt'\n",
    "path_to_output_file = '/Users/brain/Documents/GitHub/LLMs-topic-classification/data/Trade_and_industry/transformed_headers.txt'"
   ]
  },
  {
   "cell_type": "code",
   "execution_count": 4,
   "id": "c4074976",
   "metadata": {},
   "outputs": [],
   "source": [
    "df = pd.read_csv(path_to_input_file, sep=';')"
   ]
  },
  {
   "cell_type": "code",
   "execution_count": 5,
   "id": "31197c73",
   "metadata": {},
   "outputs": [],
   "source": [
    "column_headers = list(df.columns)"
   ]
  },
  {
   "cell_type": "code",
   "execution_count": 6,
   "id": "aa51387c",
   "metadata": {},
   "outputs": [],
   "source": [
    "transformed_headers = [re.sub(r'([a-z])([A-Z])', r'\\1 \\2', header.split('_')[0]) for header in column_headers]"
   ]
  },
  {
   "cell_type": "code",
   "execution_count": 7,
   "id": "7b698cb3",
   "metadata": {},
   "outputs": [],
   "source": [
    "with open(path_to_output_file, 'w') as file:\n",
    "    for header in transformed_headers:\n",
    "        file.write(\"%s\\n\" % header)"
   ]
  },
  {
   "cell_type": "code",
   "execution_count": null,
   "id": "d89bda16",
   "metadata": {},
   "outputs": [],
   "source": []
  }
 ],
 "metadata": {
  "kernelspec": {
   "display_name": "Python 3 (ipykernel)",
   "language": "python",
   "name": "python3"
  },
  "language_info": {
   "codemirror_mode": {
    "name": "ipython",
    "version": 3
   },
   "file_extension": ".py",
   "mimetype": "text/x-python",
   "name": "python",
   "nbconvert_exporter": "python",
   "pygments_lexer": "ipython3",
   "version": "3.10.13"
  }
 },
 "nbformat": 4,
 "nbformat_minor": 5
}
