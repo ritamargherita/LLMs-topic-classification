{
 "cells": [
  {
   "cell_type": "code",
   "execution_count": 1,
   "id": "603292f7",
   "metadata": {
    "scrolled": true
   },
   "outputs": [],
   "source": [
    "# ChatGPT results paths\n",
    "\n",
    "gpt_run1_path = '/Users/brain/Documents/GitHub/short-sentences-topic-classification/results/with-context/ChatGPT/Livestock/run-1.txt'\n",
    "gpt_run2_path = '/Users/brain/Documents/GitHub/short-sentences-topic-classification/results/with-context/ChatGPT/Livestock/run-2.txt'\n",
    "gpt_run3_path = '/Users/brain/Documents/GitHub/short-sentences-topic-classification/results/with-context/ChatGPT/Livestock/run-3.txt'\n",
    "gpt_run4_path = '/Users/brain/Documents/GitHub/short-sentences-topic-classification/results/with-context/ChatGPT/Livestock/run-4.txt'\n",
    "gpt_run5_path = '/Users/brain/Documents/GitHub/short-sentences-topic-classification/results/with-context/ChatGPT/Livestock/run-5.txt'\n",
    "gpt_run6_path = '/Users/brain/Documents/GitHub/short-sentences-topic-classification/results/with-context/ChatGPT/Livestock/run-6.txt'\n",
    "gpt_run7_path = '/Users/brain/Documents/GitHub/short-sentences-topic-classification/results/with-context/ChatGPT/Livestock/run-7.txt'\n",
    "gpt_run8_path = '/Users/brain/Documents/GitHub/short-sentences-topic-classification/results/with-context/ChatGPT/Livestock/run-8.txt'\n",
    "gpt_run9_path = '/Users/brain/Documents/GitHub/short-sentences-topic-classification/results/with-context/ChatGPT/Livestock/run-9.txt'\n",
    "gpt_run10_path = '/Users/brain/Documents/GitHub/short-sentences-topic-classification/results/with-context/ChatGPT/Livestock/run-10.txt'"
   ]
  },
  {
   "cell_type": "code",
   "execution_count": 2,
   "id": "7c53154e",
   "metadata": {
    "scrolled": true
   },
   "outputs": [],
   "source": [
    "# GoogleBard results paths\n",
    "\n",
    "bard_run1_path = '/Users/brain/Documents/GitHub/short-sentences-topic-classification/results/with-context/GoogleBard/Livestock/run-1.txt'\n",
    "bard_run2_path = '/Users/brain/Documents/GitHub/short-sentences-topic-classification/results/with-context/GoogleBard/Livestock/run-2.txt'\n",
    "bard_run3_path = '/Users/brain/Documents/GitHub/short-sentences-topic-classification/results/with-context/GoogleBard/Livestock/run-3.txt'\n",
    "bard_run4_path = '/Users/brain/Documents/GitHub/short-sentences-topic-classification/results/with-context/GoogleBard/Livestock/run-4.txt'\n",
    "bard_run5_path = '/Users/brain/Documents/GitHub/short-sentences-topic-classification/results/with-context/GoogleBard/Livestock/run-5.txt'\n",
    "bard_run6_path = '/Users/brain/Documents/GitHub/short-sentences-topic-classification/results/with-context/GoogleBard/Livestock/run-6.txt'\n",
    "bard_run7_path = '/Users/brain/Documents/GitHub/short-sentences-topic-classification/results/with-context/GoogleBard/Livestock/run-7.txt'\n",
    "bard_run8_path = '/Users/brain/Documents/GitHub/short-sentences-topic-classification/results/with-context/GoogleBard/Livestock/run-8.txt'\n",
    "bard_run9_path = '/Users/brain/Documents/GitHub/short-sentences-topic-classification/results/with-context/GoogleBard/Livestock/run-9.txt'\n",
    "bard_run10_path = '/Users/brain/Documents/GitHub/short-sentences-topic-classification/results/with-context/GoogleBard/Livestock/run-10.txt'"
   ]
  },
  {
   "cell_type": "code",
   "execution_count": null,
   "id": "f0274eed",
   "metadata": {
    "scrolled": true
   },
   "outputs": [],
   "source": []
  },
  {
   "cell_type": "code",
   "execution_count": 8,
   "id": "bb138786",
   "metadata": {
    "scrolled": true
   },
   "outputs": [],
   "source": [
    "import json\n",
    "import pandas as pd"
   ]
  },
  {
   "cell_type": "code",
   "execution_count": 4,
   "id": "79f6f80a",
   "metadata": {
    "scrolled": true
   },
   "outputs": [],
   "source": [
    "gpt_run1_dict = json.load(open(gpt_run1_path, 'r'))\n",
    "gpt_run2_dict = json.load(open(gpt_run2_path, 'r'))\n",
    "gpt_run3_dict = json.load(open(gpt_run3_path, 'r'))\n",
    "gpt_run4_dict = json.load(open(gpt_run4_path, 'r'))\n",
    "gpt_run5_dict = json.load(open(gpt_run5_path, 'r'))\n",
    "gpt_run6_dict = json.load(open(gpt_run6_path, 'r'))\n",
    "gpt_run7_dict = json.load(open(gpt_run7_path, 'r'))\n",
    "gpt_run8_dict = json.load(open(gpt_run8_path, 'r'))\n",
    "gpt_run9_dict = json.load(open(gpt_run9_path, 'r'))\n",
    "gpt_run10_dict = json.load(open(gpt_run10_path, 'r'))"
   ]
  },
  {
   "cell_type": "code",
   "execution_count": 5,
   "id": "1ddf7d56",
   "metadata": {
    "scrolled": true
   },
   "outputs": [],
   "source": [
    "bard_run1_dict = json.load(open(bard_run1_path, 'r'))\n",
    "bard_run2_dict = json.load(open(bard_run2_path, 'r'))\n",
    "bard_run3_dict = json.load(open(bard_run3_path, 'r'))\n",
    "bard_run4_dict = json.load(open(bard_run4_path, 'r'))\n",
    "bard_run5_dict = json.load(open(bard_run5_path, 'r'))\n",
    "bard_run6_dict = json.load(open(bard_run6_path, 'r'))\n",
    "bard_run7_dict = json.load(open(bard_run7_path, 'r'))\n",
    "bard_run8_dict = json.load(open(bard_run8_path, 'r'))\n",
    "bard_run9_dict = json.load(open(bard_run9_path, 'r'))\n",
    "bard_run10_dict = json.load(open(bard_run10_path, 'r'))"
   ]
  },
  {
   "cell_type": "code",
   "execution_count": null,
   "id": "bbfc1396",
   "metadata": {
    "scrolled": true
   },
   "outputs": [],
   "source": []
  },
  {
   "cell_type": "code",
   "execution_count": 6,
   "id": "edbe7b88",
   "metadata": {
    "scrolled": true
   },
   "outputs": [],
   "source": [
    "##### ChatGPT"
   ]
  },
  {
   "cell_type": "code",
   "execution_count": 54,
   "id": "30ae24a7",
   "metadata": {
    "scrolled": true
   },
   "outputs": [],
   "source": [
    "# Convert the dictionary to a Pandas DataFrame\n",
    "gpt_df = pd.DataFrame(list(gpt_run1_dict.items()), columns=['col-headers', 'run1'])\n",
    "gpt_df['run2'] = list(gpt_run2_dict.values())\n",
    "gpt_df['run3'] = list(gpt_run3_dict.values())\n",
    "gpt_df['run4'] = list(gpt_run4_dict.values())\n",
    "gpt_df['run5'] = list(gpt_run5_dict.values())\n",
    "gpt_df['run6'] = list(gpt_run6_dict.values())\n",
    "gpt_df['run7'] = list(gpt_run7_dict.values())\n",
    "gpt_df['run8'] = list(gpt_run8_dict.values())\n",
    "gpt_df['run9'] = list(gpt_run9_dict.values())\n",
    "gpt_df['run10'] = list(gpt_run10_dict.values())"
   ]
  },
  {
   "cell_type": "code",
   "execution_count": 59,
   "id": "f4123cf5",
   "metadata": {},
   "outputs": [],
   "source": [
    "# Save DataFrame to a CSV file\n",
    "gpt_df.to_csv('output-csv/livestock-chatGpt.csv', index=False, sep='\\t', header=False)"
   ]
  },
  {
   "cell_type": "code",
   "execution_count": null,
   "id": "8fd15368",
   "metadata": {},
   "outputs": [],
   "source": []
  },
  {
   "cell_type": "code",
   "execution_count": null,
   "id": "1a402f70",
   "metadata": {},
   "outputs": [],
   "source": [
    "##### GoogleBard"
   ]
  },
  {
   "cell_type": "code",
   "execution_count": 60,
   "id": "d87eea37",
   "metadata": {},
   "outputs": [],
   "source": [
    "# Convert the dictionary to a Pandas DataFrame\n",
    "bard_df = pd.DataFrame(list(bard_run1_dict.items()), columns=['col-headers', 'run1'])\n",
    "bard_df['run2'] = list(bard_run2_dict.values())\n",
    "bard_df['run3'] = list(bard_run3_dict.values())\n",
    "bard_df['run4'] = list(bard_run4_dict.values())\n",
    "bard_df['run5'] = list(bard_run5_dict.values())\n",
    "bard_df['run6'] = list(bard_run6_dict.values())\n",
    "bard_df['run7'] = list(bard_run7_dict.values())\n",
    "bard_df['run8'] = list(bard_run8_dict.values())\n",
    "bard_df['run9'] = list(bard_run9_dict.values())\n",
    "bard_df['run10'] = list(bard_run10_dict.values())"
   ]
  },
  {
   "cell_type": "code",
   "execution_count": 61,
   "id": "ab0fd06b",
   "metadata": {},
   "outputs": [],
   "source": [
    "# Save DataFrame to a CSV file\n",
    "bard_df.to_csv('output-csv/livestock-bard.csv', index=False, sep='\\t', header=False)"
   ]
  },
  {
   "cell_type": "code",
   "execution_count": null,
   "id": "b58a4633",
   "metadata": {},
   "outputs": [],
   "source": []
  }
 ],
 "metadata": {
  "kernelspec": {
   "display_name": "Python 3 (ipykernel)",
   "language": "python",
   "name": "python3"
  },
  "language_info": {
   "codemirror_mode": {
    "name": "ipython",
    "version": 3
   },
   "file_extension": ".py",
   "mimetype": "text/x-python",
   "name": "python",
   "nbconvert_exporter": "python",
   "pygments_lexer": "ipython3",
   "version": "3.10.12"
  }
 },
 "nbformat": 4,
 "nbformat_minor": 5
}
