{
 "cells": [
  {
   "cell_type": "code",
   "execution_count": 31,
   "id": "abdd6e88",
   "metadata": {
    "scrolled": true
   },
   "outputs": [],
   "source": [
    "# ChatGPT results paths\n",
    "\n",
    "gpt_run1_path = '/Users/brain/Documents/GitHub/short-sentences-topic-classification/results/with-context/ChatGPT/Education_expenditure_and_indicators/run-1.txt'\n",
    "gpt_run2_path = '/Users/brain/Documents/GitHub/short-sentences-topic-classification/results/with-context/ChatGPT/Education_expenditure_and_indicators/run-2.txt'\n",
    "gpt_run3_path = '/Users/brain/Documents/GitHub/short-sentences-topic-classification/results/with-context/ChatGPT/Education_expenditure_and_indicators/run-3.txt'\n",
    "gpt_run4_path = '/Users/brain/Documents/GitHub/short-sentences-topic-classification/results/with-context/ChatGPT/Education_expenditure_and_indicators/run-4.txt'\n",
    "gpt_run5_path = '/Users/brain/Documents/GitHub/short-sentences-topic-classification/results/with-context/ChatGPT/Education_expenditure_and_indicators/run-5.txt'\n",
    "gpt_run6_path = '/Users/brain/Documents/GitHub/short-sentences-topic-classification/results/with-context/ChatGPT/Education_expenditure_and_indicators/run-6.txt'\n",
    "gpt_run7_path = '/Users/brain/Documents/GitHub/short-sentences-topic-classification/results/with-context/ChatGPT/Education_expenditure_and_indicators/run-7.txt'\n",
    "gpt_run8_path = '/Users/brain/Documents/GitHub/short-sentences-topic-classification/results/with-context/ChatGPT/Education_expenditure_and_indicators/run-8.txt'\n",
    "gpt_run9_path = '/Users/brain/Documents/GitHub/short-sentences-topic-classification/results/with-context/ChatGPT/Education_expenditure_and_indicators/run-9.txt'\n",
    "gpt_run10_path = '/Users/brain/Documents/GitHub/short-sentences-topic-classification/results/with-context/ChatGPT/Education_expenditure_and_indicators/run-10.txt'"
   ]
  },
  {
   "cell_type": "code",
   "execution_count": 40,
   "id": "ca098018",
   "metadata": {
    "scrolled": true
   },
   "outputs": [],
   "source": [
    "# GoogleBard results paths\n",
    "\n",
    "bard_run1_path = '/Users/brain/Documents/GitHub/short-sentences-topic-classification/results/with-context/GoogleBard/Education_expenditure_and_indicators/run-1.txt'\n",
    "bard_run2_path = '/Users/brain/Documents/GitHub/short-sentences-topic-classification/results/with-context/GoogleBard/Education_expenditure_and_indicators/run-2.txt'\n",
    "bard_run3_path = '/Users/brain/Documents/GitHub/short-sentences-topic-classification/results/with-context/GoogleBard/Education_expenditure_and_indicators/run-3.txt'\n",
    "bard_run4_path = '/Users/brain/Documents/GitHub/short-sentences-topic-classification/results/with-context/GoogleBard/Education_expenditure_and_indicators/run-4.txt'\n",
    "bard_run5_path = '/Users/brain/Documents/GitHub/short-sentences-topic-classification/results/with-context/GoogleBard/Education_expenditure_and_indicators/run-5.txt'\n",
    "bard_run6_path = '/Users/brain/Documents/GitHub/short-sentences-topic-classification/results/with-context/GoogleBard/Education_expenditure_and_indicators/run-6.txt'\n",
    "bard_run7_path = '/Users/brain/Documents/GitHub/short-sentences-topic-classification/results/with-context/GoogleBard/Education_expenditure_and_indicators/run-7.txt'\n",
    "bard_run8_path = '/Users/brain/Documents/GitHub/short-sentences-topic-classification/results/with-context/GoogleBard/Education_expenditure_and_indicators/run-8.txt'\n",
    "bard_run9_path = '/Users/brain/Documents/GitHub/short-sentences-topic-classification/results/with-context/GoogleBard/Education_expenditure_and_indicators/run-9.txt'\n",
    "bard_run10_path = '/Users/brain/Documents/GitHub/short-sentences-topic-classification/results/with-context/GoogleBard/Education_expenditure_and_indicators/run-10.txt'"
   ]
  },
  {
   "cell_type": "code",
   "execution_count": null,
   "id": "35bc8297",
   "metadata": {},
   "outputs": [],
   "source": []
  },
  {
   "cell_type": "code",
   "execution_count": 41,
   "id": "b5e57702",
   "metadata": {},
   "outputs": [],
   "source": [
    "import json\n",
    "import pandas as pd"
   ]
  },
  {
   "cell_type": "code",
   "execution_count": 42,
   "id": "0e209481",
   "metadata": {},
   "outputs": [],
   "source": [
    "gpt_run1_dict = json.load(open(gpt_run1_path, 'r'))\n",
    "gpt_run2_dict = json.load(open(gpt_run2_path, 'r'))\n",
    "gpt_run3_dict = json.load(open(gpt_run3_path, 'r'))\n",
    "gpt_run4_dict = json.load(open(gpt_run4_path, 'r'))\n",
    "gpt_run5_dict = json.load(open(gpt_run5_path, 'r'))\n",
    "gpt_run6_dict = json.load(open(gpt_run6_path, 'r'))\n",
    "gpt_run7_dict = json.load(open(gpt_run7_path, 'r'))\n",
    "gpt_run8_dict = json.load(open(gpt_run8_path, 'r'))\n",
    "gpt_run9_dict = json.load(open(gpt_run9_path, 'r'))\n",
    "gpt_run10_dict = json.load(open(gpt_run10_path, 'r'))"
   ]
  },
  {
   "cell_type": "code",
   "execution_count": 43,
   "id": "f1d1fe1e",
   "metadata": {},
   "outputs": [
    {
     "ename": "FileNotFoundError",
     "evalue": "[Errno 2] No such file or directory: '/Users/brain/Documents/GitHub/short-sentences-topic-classification/results/with-context/GoogleBard/Education_expenditure_and_indicators/run-1.txt'",
     "output_type": "error",
     "traceback": [
      "\u001b[0;31m---------------------------------------------------------------------------\u001b[0m",
      "\u001b[0;31mFileNotFoundError\u001b[0m                         Traceback (most recent call last)",
      "Cell \u001b[0;32mIn[43], line 1\u001b[0m\n\u001b[0;32m----> 1\u001b[0m bard_run1_dict \u001b[38;5;241m=\u001b[39m json\u001b[38;5;241m.\u001b[39mload(\u001b[38;5;28;43mopen\u001b[39;49m\u001b[43m(\u001b[49m\u001b[43mbard_run1_path\u001b[49m\u001b[43m,\u001b[49m\u001b[43m \u001b[49m\u001b[38;5;124;43m'\u001b[39;49m\u001b[38;5;124;43mr\u001b[39;49m\u001b[38;5;124;43m'\u001b[39;49m\u001b[43m)\u001b[49m)\n\u001b[1;32m      2\u001b[0m bard_run2_dict \u001b[38;5;241m=\u001b[39m json\u001b[38;5;241m.\u001b[39mload(\u001b[38;5;28mopen\u001b[39m(bard_run2_path, \u001b[38;5;124m'\u001b[39m\u001b[38;5;124mr\u001b[39m\u001b[38;5;124m'\u001b[39m))\n\u001b[1;32m      3\u001b[0m bard_run3_dict \u001b[38;5;241m=\u001b[39m json\u001b[38;5;241m.\u001b[39mload(\u001b[38;5;28mopen\u001b[39m(bard_run3_path, \u001b[38;5;124m'\u001b[39m\u001b[38;5;124mr\u001b[39m\u001b[38;5;124m'\u001b[39m))\n",
      "File \u001b[0;32m~/anaconda3/lib/python3.10/site-packages/IPython/core/interactiveshell.py:284\u001b[0m, in \u001b[0;36m_modified_open\u001b[0;34m(file, *args, **kwargs)\u001b[0m\n\u001b[1;32m    277\u001b[0m \u001b[38;5;28;01mif\u001b[39;00m file \u001b[38;5;129;01min\u001b[39;00m {\u001b[38;5;241m0\u001b[39m, \u001b[38;5;241m1\u001b[39m, \u001b[38;5;241m2\u001b[39m}:\n\u001b[1;32m    278\u001b[0m     \u001b[38;5;28;01mraise\u001b[39;00m \u001b[38;5;167;01mValueError\u001b[39;00m(\n\u001b[1;32m    279\u001b[0m         \u001b[38;5;124mf\u001b[39m\u001b[38;5;124m\"\u001b[39m\u001b[38;5;124mIPython won\u001b[39m\u001b[38;5;124m'\u001b[39m\u001b[38;5;124mt let you open fd=\u001b[39m\u001b[38;5;132;01m{\u001b[39;00mfile\u001b[38;5;132;01m}\u001b[39;00m\u001b[38;5;124m by default \u001b[39m\u001b[38;5;124m\"\u001b[39m\n\u001b[1;32m    280\u001b[0m         \u001b[38;5;124m\"\u001b[39m\u001b[38;5;124mas it is likely to crash IPython. If you know what you are doing, \u001b[39m\u001b[38;5;124m\"\u001b[39m\n\u001b[1;32m    281\u001b[0m         \u001b[38;5;124m\"\u001b[39m\u001b[38;5;124myou can use builtins\u001b[39m\u001b[38;5;124m'\u001b[39m\u001b[38;5;124m open.\u001b[39m\u001b[38;5;124m\"\u001b[39m\n\u001b[1;32m    282\u001b[0m     )\n\u001b[0;32m--> 284\u001b[0m \u001b[38;5;28;01mreturn\u001b[39;00m \u001b[43mio_open\u001b[49m\u001b[43m(\u001b[49m\u001b[43mfile\u001b[49m\u001b[43m,\u001b[49m\u001b[43m \u001b[49m\u001b[38;5;241;43m*\u001b[39;49m\u001b[43margs\u001b[49m\u001b[43m,\u001b[49m\u001b[43m \u001b[49m\u001b[38;5;241;43m*\u001b[39;49m\u001b[38;5;241;43m*\u001b[39;49m\u001b[43mkwargs\u001b[49m\u001b[43m)\u001b[49m\n",
      "\u001b[0;31mFileNotFoundError\u001b[0m: [Errno 2] No such file or directory: '/Users/brain/Documents/GitHub/short-sentences-topic-classification/results/with-context/GoogleBard/Education_expenditure_and_indicators/run-1.txt'"
     ]
    }
   ],
   "source": [
    "# this doesn't work because of the splits\n",
    "\n",
    "bard_run1_dict = json.load(open(bard_run1_path, 'r'))\n",
    "bard_run2_dict = json.load(open(bard_run2_path, 'r'))\n",
    "bard_run3_dict = json.load(open(bard_run3_path, 'r'))\n",
    "bard_run4_dict = json.load(open(bard_run4_path, 'r'))\n",
    "bard_run5_dict = json.load(open(bard_run5_path, 'r'))\n",
    "bard_run6_dict = json.load(open(bard_run6_path, 'r'))\n",
    "bard_run7_dict = json.load(open(bard_run7_path, 'r'))\n",
    "bard_run8_dict = json.load(open(bard_run8_path, 'r'))\n",
    "bard_run9_dict = json.load(open(bard_run9_path, 'r'))\n",
    "bard_run10_dict = json.load(open(bard_run10_path, 'r'))"
   ]
  },
  {
   "cell_type": "code",
   "execution_count": null,
   "id": "2b5587e3",
   "metadata": {},
   "outputs": [],
   "source": []
  }
 ],
 "metadata": {
  "kernelspec": {
   "display_name": "Python 3 (ipykernel)",
   "language": "python",
   "name": "python3"
  },
  "language_info": {
   "codemirror_mode": {
    "name": "ipython",
    "version": 3
   },
   "file_extension": ".py",
   "mimetype": "text/x-python",
   "name": "python",
   "nbconvert_exporter": "python",
   "pygments_lexer": "ipython3",
   "version": "3.10.12"
  }
 },
 "nbformat": 4,
 "nbformat_minor": 5
}
