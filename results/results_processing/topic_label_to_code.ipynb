{
 "cells": [
  {
   "cell_type": "code",
   "execution_count": 1,
   "id": "8478169c",
   "metadata": {},
   "outputs": [],
   "source": [
    "import pandas as pd\n",
    "import os"
   ]
  },
  {
   "cell_type": "code",
   "execution_count": 2,
   "id": "579b8bf3",
   "metadata": {},
   "outputs": [],
   "source": [
    "# Path to results csv\n",
    "csv_result_path = '/Users/brain/Documents/GitHub/short-sentences-topic-classification/results/results_csv/'\n",
    "\n",
    "# Path to CESSDA Topic Classification CSV\n",
    "cessda_path = '/Users/brain/Documents/GitHub/short-sentences-topic-classification/controlled-vocabs/cessda.csv'\n",
    "\n",
    "# Path to output\n",
    "mapped_csv_path = '/Users/brain/Documents/GitHub/short-sentences-topic-classification/results/mapped_csv/'"
   ]
  },
  {
   "cell_type": "code",
   "execution_count": 3,
   "id": "7990008f",
   "metadata": {},
   "outputs": [],
   "source": [
    "context_path_list = [\"context/ChatGPT/\", \"no-context/ChatGPT/\", \"no-context/GoogleBard/\"]\n",
    "\n",
    "csv_list = [\"Education_expenditure_and_indicators.csv\",\n",
    "            \"Health_expectancy.csv\",\n",
    "            \"Listed_monuments.csv\", \n",
    "            \"Livestock.csv\",\n",
    "            \"Milk_supply_and_dairy_production.csv\",\n",
    "            \"Mobility.csv\",\n",
    "            \"Plant_protection_products.csv\",\n",
    "            \"Population_dynamics.csv\",\n",
    "            \"Social_security.csv\",\n",
    "            \"Trade_and_industry.csv\"]"
   ]
  },
  {
   "cell_type": "code",
   "execution_count": 4,
   "id": "409fad78",
   "metadata": {},
   "outputs": [],
   "source": [
    "# Read the CSV file into a DataFrame\n",
    "cessda_df = pd.read_csv(cessda_path)"
   ]
  },
  {
   "cell_type": "code",
   "execution_count": 5,
   "id": "d42016b2",
   "metadata": {},
   "outputs": [],
   "source": [
    "for context_path in context_path_list:\n",
    "    for csv in csv_list:\n",
    "        file_path = csv_result_path + context_path + csv\n",
    "        \n",
    "        df = pd.read_csv(file_path)\n",
    "        \n",
    "        # Map the values in the dataframe to their corresponding codes from CESSDA\n",
    "        for col in df.columns:\n",
    "            if col != 'run_index':\n",
    "                # Define a dictionary to map product names to codes\n",
    "                topic_to_code = dict(zip(cessda_df['Code descriptive term'], cessda_df['Topic code']))\n",
    "                topic_to_code.update(dict(zip(cessda_df['Code value'], cessda_df['Topic code'])))\n",
    "\n",
    "                # Map values from data1 to their corresponding codes from the combined products in data2\n",
    "                df = df.replace(topic_to_code)\n",
    "        \n",
    "        # Ensure the directory exists, create it if necessary\n",
    "        output_directory_path = mapped_csv_path + context_path\n",
    "        os.makedirs(output_directory_path, exist_ok=True)\n",
    "        \n",
    "        # Specify the full file path including the filename\n",
    "        file_path = os.path.join(output_directory_path, csv)\n",
    "        \n",
    "        # Save the DataFrame to a CSV file in the specified directory\n",
    "        df.to_csv(file_path, index=False)"
   ]
  },
  {
   "cell_type": "code",
   "execution_count": null,
   "id": "b95787fc",
   "metadata": {},
   "outputs": [],
   "source": []
  }
 ],
 "metadata": {
  "kernelspec": {
   "display_name": "Python 3 (ipykernel)",
   "language": "python",
   "name": "python3"
  },
  "language_info": {
   "codemirror_mode": {
    "name": "ipython",
    "version": 3
   },
   "file_extension": ".py",
   "mimetype": "text/x-python",
   "name": "python",
   "nbconvert_exporter": "python",
   "pygments_lexer": "ipython3",
   "version": "3.10.13"
  }
 },
 "nbformat": 4,
 "nbformat_minor": 5
}
