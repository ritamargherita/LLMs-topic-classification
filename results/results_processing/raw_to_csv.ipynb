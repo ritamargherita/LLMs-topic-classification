{
 "cells": [
  {
   "cell_type": "code",
   "execution_count": 1,
   "id": "e3287cf4",
   "metadata": {},
   "outputs": [],
   "source": [
    "import json\n",
    "import os\n",
    "import pandas as pd"
   ]
  },
  {
   "cell_type": "code",
   "execution_count": 2,
   "id": "5ae89664",
   "metadata": {},
   "outputs": [],
   "source": [
    "# Path to directory\n",
    "raw_result_path = '/Users/brain/Documents/GitHub/LLMs-topic-classification/results/results_raw/'"
   ]
  },
  {
   "cell_type": "code",
   "execution_count": 3,
   "id": "37bd245e",
   "metadata": {},
   "outputs": [],
   "source": [
    "# Path to output csv\n",
    "csv_result_path = '/Users/brain/Documents/GitHub/LLMs-topic-classification/results/results_csv/'"
   ]
  },
  {
   "cell_type": "code",
   "execution_count": 4,
   "id": "01a3b827",
   "metadata": {},
   "outputs": [],
   "source": [
    "dataset_list = [\"Education_expenditure_and_indicators\",\n",
    "               \"Health_expectancy\",\n",
    "               \"Listed_monuments\", \n",
    "               \"Livestock\",\n",
    "               \"Milk_supply_and_dairy_production\",\n",
    "               \"Mobility\",\n",
    "               \"Plant_protection_products\",\n",
    "               \"Population_dynamics\",\n",
    "               \"Social_security\",\n",
    "               \"Trade_and_industry\"]"
   ]
  },
  {
   "cell_type": "code",
   "execution_count": 5,
   "id": "95f657f6",
   "metadata": {},
   "outputs": [],
   "source": [
    "context_path_list = [\"context/ChatGPT/\", \"no-context/ChatGPT/\", \"no-context/GoogleBard/\"]"
   ]
  },
  {
   "cell_type": "code",
   "execution_count": 6,
   "id": "e933c0fd",
   "metadata": {},
   "outputs": [],
   "source": [
    "# Replacement ictionary\n",
    "replacement_dict = {\n",
    "    \"Demography\": \"DEMOGRAPHY (POPULATION VITAL STATISTICS AND CENSUSES)\", \n",
    "    \"Economics\": \"Economics\",\n",
    "    \"Education\": \"EDUCATION\",\n",
    "    \"Health\": \"HEALTH\",\n",
    "    \"History\": \"HISTORY\",\n",
    "    \"Housing and Land Use\": \"HOUSING AND LAND USE\",\n",
    "    \"Labour and Employment\": \"LABOUR AND EMPLOYMENT\",\n",
    "    \"Law crime and legal systems\": \"LAW, CRIME AND LEGAL SYSTEMS\",\n",
    "    \"Media, Communication and Language\": \"MEDIA, COMMUNICATION AND LANGUAGE\",\n",
    "    \"Natural Environment\": \"NATURAL ENVIRONMENT\",\n",
    "    \"Politics\": \"POLITICS\",\n",
    "    \"Psychology\": \"PSYCHOLOGY\",\n",
    "    \"Science and Technology\": \"SCIENCE AND TECHNOLOGY\",\n",
    "    \"Social Stratification and Groupings\": \"SOCIAL STRATIFICATION AND GROUPINGS\",\n",
    "    \"Social Welfare Policy and Systems\": \"SOCIAL WELFARE POLICY AND SYSTEMS\",\n",
    "    \"Social welfare policy and systems\": \"SOCIAL WELFARE POLICY AND SYSTEMS\",\n",
    "    \"Society and Culture\": \"SOCIETY AND CULTURE\",\n",
    "    \"Trade, Industry and Markets\": \"TRADE, INDUSTRY AND MARKETS\",\n",
    "    \"Transport and Travel\": \"TRANSPORT AND TRAVEL\",\n",
    "    \"Other\": \"OTHER\",\n",
    "    \"Social Welfare Systems/Structures\": \"Social welfare systems/structures\",\n",
    "    \"Social Welfare Policy\": \"Social welfare policy\",\n",
    "    \"Health Care Services and Policies\": \"Health care services and policies\",\n",
    "    \"Time Use\": \"Time use\",\n",
    "    # Topics not in CESSDA\n",
    "    \"Geography\": \"NOT_FOUND\",\n",
    "    \"Contract Research\": \"NOT_FOUND\",\n",
    "    \"Mental Health\": \"NOT_FOUND\",\n",
    "    \"Mental health\": \"NOT_FOUND\",\n",
    "    \"Total On Education Institutions\": \"NOT_FOUND\",\n",
    "    \"Government\": \"NOT_FOUND\",\n",
    "    \"Economics and indicators\": \"NOT_FOUND\",\n",
    "    \"Time\": \"NOT_FOUND\",\n",
    "    \"Social welfare systems/structures: use and availability\": \"NOT_FOUND\",\n",
    "    \"Food composition\": \"NOT_FOUND\",\n",
    "    \"Health | Diet and nutrition\": \"NOT_FOUND\",\n",
    "    \"Nutrition and food consumption\": \"NOT_FOUND\",\n",
    "    \"Nutrition\": \"NOT_FOUND\",\n",
    "    \"Health -> Diet and nutrition\": \"NOT_FOUND\",\n",
    "    \"Food products\": \"NOT_FOUND\",\n",
    "    \"Food and nutrition\": \"NOT_FOUND\",\n",
    "    \"Education - Expenditure\": \"NOT_FOUND\",\n",
    "    \"Economics - Economic conditions and indicators\": \"NOT_FOUND\",\n",
    "    \"Education - Expenditure and financing\": \"NOT_FOUND\",\n",
    "    \"Education - Expenditure/financing\": \"NOT_FOUND\",\n",
    "    \"Science and Technology - Biotechnology\": \"NOT_FOUND\",\n",
    "    \"Economics - Economic policy, public expenditure and revenue\": \"NOT_FOUND\",\n",
    "    \"Science and Technology - Research and development\": \"NOT_FOUND\",\n",
    "    \"Education and Compulsory and pre-school education\": \"NOT_FOUND\",\n",
    "    \"Education - Compulsory and pre-school education\": \"NOT_FOUND\",\n",
    "    \"Social welfare policy - Specific social services: use and availability\": \"NOT_FOUND\",\n",
    "    \"Education - Higher and further education\": \"NOT_FOUND\",\n",
    "    \"Social and cultural identity\": \"NOT_FOUND\",\n",
    "    \"Economic instruments\": \"NOT_FOUND\",\n",
    "    \"Transport and Travel - Passenger transport\": \"NOT_FOUND\",\n",
    "    \"Government - Public finance\": \"NOT_FOUND\",\n",
    "    \"Government - Public expenditure\": \"NOT_FOUND\",\n",
    "    \"Government - Government, political systems and organisations\": \"NOT_FOUND\",\n",
    "    \"Government budget/expenditure\": \"NOT_FOUND\",\n",
    "    \"Politics - Government, political systems and organisations\": \"NOT_FOUND\",\n",
    "    \"Social stratification and groupings - Equality, inequality and social exclusion\": \"NOT_FOUND\",\n",
    "    \"Social Stratification and Groupings - Income, expenditure and wealth\": \"NOT_FOUND\"\n",
    "}"
   ]
  },
  {
   "cell_type": "code",
   "execution_count": 7,
   "id": "dfa94372",
   "metadata": {},
   "outputs": [],
   "source": [
    "for context_path in context_path_list:\n",
    "    for dataset in dataset_list:\n",
    "        directory = raw_result_path + context_path + dataset + \"/\"\n",
    "        \n",
    "        # Iterate over files in the directory\n",
    "        dict = {}\n",
    "\n",
    "        for filename in os.listdir(directory):\n",
    "            if os.path.isfile(os.path.join(directory, filename)) and filename.endswith('.txt'):\n",
    "                run_str = filename.replace('-', '').replace('.txt', '')\n",
    "                dict[run_str] = json.load(open(os.path.join(directory, filename), 'r'))\n",
    "        \n",
    "        # Convert the dictionary to a DataFrame\n",
    "        df = pd.DataFrame.from_dict(dict, orient='index')\n",
    "\n",
    "        # Reset the index to get 'run_index' as a column\n",
    "        df.reset_index(inplace=True)\n",
    "\n",
    "        # Rename the 'index' column to 'run_index'\n",
    "        df.rename(columns={'index': 'run_index'}, inplace=True)\n",
    "        \n",
    "        # Iterate through each cell in the DataFrame\n",
    "        for col in df.columns:\n",
    "            for index, value in enumerate(df[col]):\n",
    "                # Check if the value exactly matches any key in the dictionary\n",
    "                if value in replacement_dict.keys():\n",
    "                    # Replace the value with the corresponding value from the dictionary\n",
    "                    df.at[index, col] = replacement_dict[value]\n",
    "        \n",
    "        # Ensure the directory exists, create it if necessary\n",
    "        output_directory_path = csv_result_path + context_path\n",
    "        os.makedirs(output_directory_path, exist_ok=True)\n",
    "        \n",
    "        # Specify the full file path including the filename\n",
    "        output_file_name = dataset + \".csv\"\n",
    "        file_path = os.path.join(output_directory_path, output_file_name)\n",
    "        \n",
    "        # Save the DataFrame to a CSV file in the specified directory\n",
    "        df.to_csv(file_path, index=False)"
   ]
  },
  {
   "cell_type": "code",
   "execution_count": null,
   "id": "426741df",
   "metadata": {},
   "outputs": [],
   "source": []
  },
  {
   "cell_type": "code",
   "execution_count": null,
   "id": "7fb71afe",
   "metadata": {},
   "outputs": [],
   "source": []
  }
 ],
 "metadata": {
  "kernelspec": {
   "display_name": "Python 3 (ipykernel)",
   "language": "python",
   "name": "python3"
  },
  "language_info": {
   "codemirror_mode": {
    "name": "ipython",
    "version": 3
   },
   "file_extension": ".py",
   "mimetype": "text/x-python",
   "name": "python",
   "nbconvert_exporter": "python",
   "pygments_lexer": "ipython3",
   "version": "3.10.13"
  }
 },
 "nbformat": 4,
 "nbformat_minor": 5
}
