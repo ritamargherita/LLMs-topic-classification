{
 "cells": [
  {
   "cell_type": "code",
   "execution_count": 1,
   "id": "78722e15",
   "metadata": {},
   "outputs": [],
   "source": [
    "import os\n",
    "import numpy as np\n",
    "from scipy.stats import f\n",
    "import pandas as pd\n",
    "import pingouin as pg"
   ]
  },
  {
   "cell_type": "code",
   "execution_count": 2,
   "id": "02f1c541",
   "metadata": {},
   "outputs": [],
   "source": [
    "#strict consistency\n",
    "path_no_context_strict_consistency_chatgpt = '/Users/brain/Documents/GitHub/LLMs-topic-classification/results/mapped_csv/no-context/ChatGPT/strict_consistency/'\n",
    "path_no_context_strict_consistency_googlebard = '/Users/brain/Documents/GitHub/LLMs-topic-classification/results/mapped_csv/no-context/GoogleBard/strict_consistency/'\n",
    "path_context_strict_consistency_chatgpt = '/Users/brain/Documents/GitHub/LLMs-topic-classification/results/mapped_csv/context/ChatGPT/strict_consistency/'\n",
    "\n",
    "#soft consistency\n",
    "path_no_context_soft_consistency_chatgpt = '/Users/brain/Documents/GitHub/LLMs-topic-classification/results/mapped_csv/no-context/ChatGPT/soft_consistency/'\n",
    "path_no_context_soft_consistency_googlebard = '/Users/brain/Documents/GitHub/LLMs-topic-classification/results/mapped_csv/no-context/GoogleBard/soft_consistency/'\n",
    "path_context_soft_consistency_chatgpt = '/Users/brain/Documents/GitHub/LLMs-topic-classification/results/mapped_csv/context/ChatGPT/soft_consistency/'"
   ]
  },
  {
   "cell_type": "code",
   "execution_count": 3,
   "id": "5472d71b",
   "metadata": {},
   "outputs": [],
   "source": [
    "def transpose_df(directory_path, filename):\n",
    "    df = pd.read_csv(os.path.join(directory_path, filename))\n",
    "    df.drop(columns=['run_index'], inplace=True) if 'run_index' in df.columns else None\n",
    "    df.drop(columns=['ID'], inplace=True) if 'ID' in df.columns else None\n",
    "\n",
    "    # Swap the x-axis with the y-axis\n",
    "    df_transposed = df.transpose()\n",
    "\n",
    "    return df_transposed"
   ]
  },
  {
   "cell_type": "code",
   "execution_count": 4,
   "id": "0b91275f",
   "metadata": {},
   "outputs": [],
   "source": [
    "def calculate_cronbach_alpha(df_transposed):\n",
    "    cronbach_alpha = pg.cronbach_alpha(data=df_transposed)\n",
    "    \n",
    "    return cronbach_alpha"
   ]
  },
  {
   "cell_type": "code",
   "execution_count": 5,
   "id": "2c556568",
   "metadata": {},
   "outputs": [],
   "source": [
    "def iterate_through_files_in_directory(directory_path):\n",
    "    filenames = os.listdir(directory_path)\n",
    "    \n",
    "    result_df = pd.DataFrame()\n",
    "\n",
    "    for filename in filenames:\n",
    "        \n",
    "        if filename.endswith('.csv'):\n",
    "            #transpose dataframe\n",
    "            df_transposed = transpose_df(directory_path, filename)\n",
    "\n",
    "            # Replace strings with NaN\n",
    "            df_transposed = df_transposed.map(lambda x: np.nan if isinstance(x, str) else x)\n",
    "\n",
    "            #calculate cronbach alpha\n",
    "            cronbach_alpha = calculate_cronbach_alpha(df_transposed)\n",
    "\n",
    "            # Create a Series\n",
    "            s = pd.Series({'dataset': str(filename), '/'.join(directory_path.split('/')[-4:]): cronbach_alpha[0]})\n",
    "\n",
    "            # Convert the Series to a DataFrame\n",
    "            df = s.to_frame().T\n",
    "\n",
    "            # Add values to the DataFrame\n",
    "            result_df = pd.concat([result_df, df], ignore_index=True)\n",
    "        \n",
    "    return result_df"
   ]
  },
  {
   "cell_type": "code",
   "execution_count": null,
   "id": "281c8c01",
   "metadata": {},
   "outputs": [],
   "source": []
  },
  {
   "cell_type": "code",
   "execution_count": 6,
   "id": "b72301fd",
   "metadata": {},
   "outputs": [
    {
     "name": "stderr",
     "output_type": "stream",
     "text": [
      "/Users/brain/anaconda3/lib/python3.10/site-packages/pingouin/reliability.py:144: RuntimeWarning: invalid value encountered in scalar divide\n",
      "  cronbach = (k / (k - 1)) * (1 - np.trace(C) / C.sum().sum())\n"
     ]
    }
   ],
   "source": [
    "# results for strict consistency\n",
    "result_df_no_context_chatgpt_strict_consistency = iterate_through_files_in_directory(path_no_context_strict_consistency_chatgpt)\n",
    "result_df_no_context_googlebard_strict_consistency = iterate_through_files_in_directory(path_no_context_strict_consistency_googlebard)\n",
    "result_df_context_chatgpt_strict_consistency = iterate_through_files_in_directory(path_context_strict_consistency_chatgpt)"
   ]
  },
  {
   "cell_type": "code",
   "execution_count": 7,
   "id": "d55d242e",
   "metadata": {},
   "outputs": [
    {
     "name": "stderr",
     "output_type": "stream",
     "text": [
      "/Users/brain/anaconda3/lib/python3.10/site-packages/pingouin/reliability.py:144: RuntimeWarning: invalid value encountered in scalar divide\n",
      "  cronbach = (k / (k - 1)) * (1 - np.trace(C) / C.sum().sum())\n"
     ]
    }
   ],
   "source": [
    "# results for soft consistency\n",
    "result_df_no_context_chatgpt_soft_consistency = iterate_through_files_in_directory(path_no_context_soft_consistency_chatgpt)\n",
    "result_df_no_context_googlebard_soft_consistency = iterate_through_files_in_directory(path_no_context_soft_consistency_googlebard)\n",
    "result_df_context_chatgpt_soft_consistency = iterate_through_files_in_directory(path_context_soft_consistency_chatgpt)"
   ]
  },
  {
   "cell_type": "code",
   "execution_count": 14,
   "id": "acfd9c2a",
   "metadata": {},
   "outputs": [],
   "source": [
    "#merge result dataframes\n",
    "merged_df = pd.concat([\n",
    "    result_df_no_context_chatgpt_strict_consistency.set_index('dataset'), \n",
    "    result_df_no_context_googlebard_strict_consistency.set_index('dataset'), \n",
    "    result_df_context_chatgpt_strict_consistency.set_index('dataset'), \n",
    "    result_df_no_context_chatgpt_soft_consistency.set_index('dataset'),\n",
    "    result_df_no_context_googlebard_soft_consistency.set_index('dataset'),\n",
    "    result_df_context_chatgpt_soft_consistency.set_index('dataset')],axis=1)"
   ]
  },
  {
   "cell_type": "code",
   "execution_count": 29,
   "id": "ea4d471b",
   "metadata": {},
   "outputs": [],
   "source": [
    "merged_df.to_csv('/Users/brain/Documents/GitHub/LLMs-topic-classification/results/cronbach_alpha.csv', index=False)"
   ]
  },
  {
   "cell_type": "code",
   "execution_count": null,
   "id": "534060a8",
   "metadata": {},
   "outputs": [],
   "source": []
  }
 ],
 "metadata": {
  "kernelspec": {
   "display_name": "Python 3 (ipykernel)",
   "language": "python",
   "name": "python3"
  },
  "language_info": {
   "codemirror_mode": {
    "name": "ipython",
    "version": 3
   },
   "file_extension": ".py",
   "mimetype": "text/x-python",
   "name": "python",
   "nbconvert_exporter": "python",
   "pygments_lexer": "ipython3",
   "version": "3.10.13"
  }
 },
 "nbformat": 4,
 "nbformat_minor": 5
}
