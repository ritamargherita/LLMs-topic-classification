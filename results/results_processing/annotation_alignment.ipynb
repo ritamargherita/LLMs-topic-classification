{
 "cells": [
  {
   "cell_type": "code",
   "execution_count": null,
   "id": "12b87464",
   "metadata": {},
   "outputs": [],
   "source": [
    "#human annotation\n",
    "path_human_annotation = \n",
    "\n",
    "#strict consistency\n",
    "path_no_context_strict_consistency_chatgpt = '/Users/brain/Documents/GitHub/short-sentences-topic-classification/results/mapped_csv/no-context/ChatGPT/strict_consistency/'\n",
    "path_no_context_strict_consistency_googlebard = '/Users/brain/Documents/GitHub/short-sentences-topic-classification/results/mapped_csv/no-context/GoogleBard/strict_consistency/'\n",
    "path_context_strict_consistency_chatgpt = '/Users/brain/Documents/GitHub/short-sentences-topic-classification/results/mapped_csv/context/ChatGPT/strict_consistency/'\n",
    "\n",
    "#soft consistency\n",
    "path_no_context_soft_consistency_chatgpt = '/Users/brain/Documents/GitHub/short-sentences-topic-classification/results/mapped_csv/no-context/ChatGPT/soft_consistency/'\n",
    "path_no_context_soft_consistency_googlebard = '/Users/brain/Documents/GitHub/short-sentences-topic-classification/results/mapped_csv/no-context/GoogleBard/soft_consistency/'\n",
    "path_context_soft_consistency_chatgpt = '/Users/brain/Documents/GitHub/short-sentences-topic-classification/results/mapped_csv/context/ChatGPT/soft_consistency/'"
   ]
  }
 ],
 "metadata": {
  "kernelspec": {
   "display_name": "Python 3 (ipykernel)",
   "language": "python",
   "name": "python3"
  },
  "language_info": {
   "codemirror_mode": {
    "name": "ipython",
    "version": 3
   },
   "file_extension": ".py",
   "mimetype": "text/x-python",
   "name": "python",
   "nbconvert_exporter": "python",
   "pygments_lexer": "ipython3",
   "version": "3.10.13"
  }
 },
 "nbformat": 4,
 "nbformat_minor": 5
}
