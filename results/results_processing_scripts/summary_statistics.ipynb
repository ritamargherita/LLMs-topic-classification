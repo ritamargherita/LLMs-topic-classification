{
 "cells": [
  {
   "cell_type": "code",
   "execution_count": 1,
   "id": "3db187dd",
   "metadata": {},
   "outputs": [],
   "source": [
    "import pandas as pd\n",
    "import os"
   ]
  },
  {
   "cell_type": "code",
   "execution_count": 2,
   "id": "6a141dca",
   "metadata": {},
   "outputs": [],
   "source": [
    "#strict consistency\n",
    "path_no_context_strict_consistency_chatgpt = '/Users/brain/Documents/GitHub/LLMs-topic-classification/results/mapped_csv/no-context/ChatGPT/strict_consistency/'\n",
    "path_no_context_strict_consistency_googlebard = '/Users/brain/Documents/GitHub/LLMs-topic-classification/results/mapped_csv/no-context/GoogleBard/strict_consistency/'\n",
    "path_no_context_strict_consistency_googlegemini = '/Users/brain/Documents/GitHub/LLMs-topic-classification/results/mapped_csv/no-context/GoogleGemini/strict_consistency/'\n",
    "path_context_strict_consistency_chatgpt = '/Users/brain/Documents/GitHub/LLMs-topic-classification/results/mapped_csv/context/ChatGPT/strict_consistency/'\n",
    "path_context_strict_consistency_googlegemini = '/Users/brain/Documents/GitHub/LLMs-topic-classification/results/mapped_csv/context/GoogleGemini/strict_consistency/'\n",
    "\n",
    "#soft consistency\n",
    "path_no_context_soft_consistency_chatgpt = '/Users/brain/Documents/GitHub/LLMs-topic-classification/results/mapped_csv/no-context/ChatGPT/soft_consistency/'\n",
    "path_no_context_soft_consistency_googlebard = '/Users/brain/Documents/GitHub/LLMs-topic-classification/results/mapped_csv/no-context/GoogleBard/soft_consistency/'\n",
    "path_no_context_soft_consistency_googlegemini = '/Users/brain/Documents/GitHub/LLMs-topic-classification/results/mapped_csv/no-context/GoogleGemini/soft_consistency/'\n",
    "path_context_soft_consistency_chatgpt = '/Users/brain/Documents/GitHub/LLMs-topic-classification/results/mapped_csv/context/ChatGPT/soft_consistency/'\n",
    "path_context_soft_consistency_googlegemini = '/Users/brain/Documents/GitHub/LLMs-topic-classification/results/mapped_csv/context/GoogleGemini/soft_consistency/'\n",
    "\n",
    "dataset_paths_list = [path_no_context_strict_consistency_chatgpt,\n",
    "                      path_no_context_strict_consistency_googlebard,\n",
    "                      path_no_context_strict_consistency_googlegemini,\n",
    "                      path_context_strict_consistency_chatgpt,\n",
    "                      path_context_strict_consistency_googlegemini,\n",
    "                      path_no_context_soft_consistency_chatgpt,\n",
    "                      path_no_context_soft_consistency_googlebard,\n",
    "                      path_no_context_soft_consistency_googlegemini,\n",
    "                      path_context_soft_consistency_chatgpt,\n",
    "                      path_context_soft_consistency_googlegemini]\n",
    "\n",
    "#datasets names list\n",
    "dataset_names_list = ['Education_expenditure_and_indicators.csv',\n",
    "                      'Health_expectancy.csv',\n",
    "                      'Listed_monuments.csv', \n",
    "                      'Livestock.csv',\n",
    "                      'Milk_supply_and_dairy_production.csv',\n",
    "                      'Mobility.csv',\n",
    "                      'Plant_protection_products.csv',\n",
    "                      'Population_dynamics.csv',\n",
    "                      'Social_security.csv',\n",
    "                      'Trade_and_industry.csv']\n",
    "\n",
    "general_terms_list = [1, 5, 11, 17, 30, 31, 34, 42, 45, 50, 55, 62, 63, 66, 76, 80, 90, 94]\n",
    "specific_terms_list = [2, 3, 4, 6, 7, 8, 9, 10, 12, 13, 14, 15, 16, 18, 19, 20, 21, 22, 23, \n",
    "                       24, 25, 26, 27, 28, 29, 32, 33, 35, 36, 37, 38, 39, 40, 41, 43, 44,\n",
    "                       46, 47, 48, 49, 50, 51, 52, 53, 54, 55, 56, 57, 58, 59, 60, 61, 63,\n",
    "                       64, 65, 66, 67, 68, 69, 70, 71, 72, 73, 74, 75, 76, 77, 78, 79, 80,\n",
    "                       81, 82, 83, 84, 85, 86, 87, 88, 89, 90, 91, 92, 93, 94]"
   ]
  },
  {
   "cell_type": "code",
   "execution_count": 3,
   "id": "38461800",
   "metadata": {},
   "outputs": [],
   "source": [
    "results_df = pd.DataFrame(columns=['setting', 'dataset', 'unassigned_count', 'wrong_assigned_count', \n",
    "                                   'general_terms_count', 'specific_terms_count', 'other_terms_count'])"
   ]
  },
  {
   "cell_type": "code",
   "execution_count": 4,
   "id": "3c1573d8",
   "metadata": {},
   "outputs": [],
   "source": [
    "for dataset_path in dataset_paths_list:\n",
    "    for dataset_name in dataset_names_list:\n",
    "        df = pd.read_csv(os.path.join(dataset_path, dataset_name))\n",
    "        \n",
    "        if 'ID' in df.columns:\n",
    "            df = df.drop(columns=['ID'])\n",
    "            \n",
    "        if 'run_index' in df.columns:\n",
    "            df = df.drop(columns=['run_index'])\n",
    "        \n",
    "        unassigned_count = df.isna().sum().sum()\n",
    "        wrong_assigned_count = df.stack().value_counts().get('NOT_FOUND', 0)\n",
    "        \n",
    "        general_terms_count = 0\n",
    "        specific_terms_count = 0\n",
    "        other_terms_count = 0\n",
    "        \n",
    "        for col in df:\n",
    "            for index, value in df[col].items():\n",
    "                if value in general_terms_list:\n",
    "                    general_terms_count += 1\n",
    "                elif value in specific_terms_list:\n",
    "                    specific_terms_count += 1\n",
    "                elif value == 95:\n",
    "                    other_terms_count +=1\n",
    "                    \n",
    "        results_df.loc[len(results_df)] = [dataset_path, dataset_name, unassigned_count/df.size, \n",
    "                                           wrong_assigned_count/df.size, general_terms_count/df.size, \n",
    "                                           specific_terms_count/df.size, other_terms_count/df.size]"
   ]
  },
  {
   "cell_type": "code",
   "execution_count": 5,
   "id": "24ef573c",
   "metadata": {},
   "outputs": [],
   "source": [
    "results_df.to_csv('/Users/brain/Documents/GitHub/LLMs-topic-classification/results/statistics/summary_statistics.csv')"
   ]
  },
  {
   "cell_type": "code",
   "execution_count": null,
   "id": "5d83b183",
   "metadata": {},
   "outputs": [],
   "source": []
  }
 ],
 "metadata": {
  "kernelspec": {
   "display_name": "Python 3 (ipykernel)",
   "language": "python",
   "name": "python3"
  },
  "language_info": {
   "codemirror_mode": {
    "name": "ipython",
    "version": 3
   },
   "file_extension": ".py",
   "mimetype": "text/x-python",
   "name": "python",
   "nbconvert_exporter": "python",
   "pygments_lexer": "ipython3",
   "version": "3.10.13"
  }
 },
 "nbformat": 4,
 "nbformat_minor": 5
}
