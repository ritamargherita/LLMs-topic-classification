{
 "cells": [
  {
   "cell_type": "code",
   "execution_count": 1,
   "id": "64529c09",
   "metadata": {},
   "outputs": [],
   "source": [
    "import pandas as pd\n",
    "import os"
   ]
  },
  {
   "cell_type": "code",
   "execution_count": 2,
   "id": "566e2f1b",
   "metadata": {},
   "outputs": [],
   "source": [
    "# Path to results csv\n",
    "csv_result_path = '/Users/brain/Documents/GitHub/LLMs-topic-classification/results/results_csv/'\n",
    "\n",
    "# Path to CESSDA Topic Classification CSV\n",
    "cessda_path = '/Users/brain/Documents/GitHub/LLMs-topic-classification/controlled-vocabs/cessda.csv'\n",
    "\n",
    "# Path to output\n",
    "mapped_csv_path = '/Users/brain/Documents/GitHub/LLMs-topic-classification/results/mapped_csv/'"
   ]
  },
  {
   "cell_type": "code",
   "execution_count": 3,
   "id": "03f71132",
   "metadata": {},
   "outputs": [],
   "source": [
    "context_path_list = [\"context/ChatGPT/\", \"context/GoogleGemini/\",\n",
    "                     \"no-context/ChatGPT/\", \"no-context/GoogleBard/\", \"no-context/GoogleGemini/\"]\n",
    "\n",
    "csv_list = [\"Education_expenditure_and_indicators.csv\",\n",
    "            \"Health_expectancy.csv\",\n",
    "            \"Listed_monuments.csv\", \n",
    "            \"Livestock.csv\",\n",
    "            \"Milk_supply_and_dairy_production.csv\",\n",
    "            \"Mobility.csv\",\n",
    "            \"Plant_protection_products.csv\",\n",
    "            \"Population_dynamics.csv\",\n",
    "            \"Social_security.csv\",\n",
    "            \"Trade_and_industry.csv\"]"
   ]
  },
  {
   "cell_type": "code",
   "execution_count": 4,
   "id": "b7c9f731",
   "metadata": {},
   "outputs": [],
   "source": [
    "soft_consistency_mapping = {\n",
    "    1: [1, 2, 3, 4],\n",
    "    5: [5, 6, 7, 8, 9, 10],\n",
    "    11: [11, 12, 13, 14, 15, 16],\n",
    "    17: [17, 18, 19, 20, 21, 22, 23, 24, 25, 26, 27, 28, 29],\n",
    "    30: [30],\n",
    "    31: [31, 32, 33],\n",
    "    34: [34, 35, 36, 37, 38, 39, 40, 41],\n",
    "    42: [42, 43, 44],\n",
    "    45: [45, 46, 47, 48, 49],\n",
    "    50: [50, 51, 52, 53, 54],\n",
    "    55: [55, 56, 57, 58, 59, 60, 61],\n",
    "    62: [62],\n",
    "    63: [63, 64, 65],\n",
    "    66: [66, 67, 68, 69, 70, 71, 72, 73, 74, 75],\n",
    "    76: [76, 77, 78, 79],\n",
    "    80: [80, 81, 82, 83, 84, 85, 86, 87, 88, 89],\n",
    "    90: [90, 91, 92, 93],\n",
    "    94: [94],\n",
    "    95: [95]\n",
    "}"
   ]
  },
  {
   "cell_type": "code",
   "execution_count": 5,
   "id": "b64280b4",
   "metadata": {},
   "outputs": [],
   "source": [
    "# Read the CSV file into a DataFrame\n",
    "cessda_df = pd.read_csv(cessda_path)"
   ]
  },
  {
   "cell_type": "code",
   "execution_count": 6,
   "id": "f360b252",
   "metadata": {},
   "outputs": [],
   "source": [
    "for context_path in context_path_list:\n",
    "    for csv in csv_list:\n",
    "        file_path = csv_result_path + context_path + csv\n",
    "        \n",
    "        df = pd.read_csv(file_path)\n",
    "        \n",
    "        ### STRICT CODE MAPPING\n",
    "        # Map the values in the dataframe to their corresponding codes from CESSDA\n",
    "        for col in df.columns:\n",
    "            if col != 'run_index':\n",
    "                # Define a dictionary to map names to codes\n",
    "                topic_to_code = dict(zip(cessda_df['Code descriptive term'], cessda_df['Topic code']))\n",
    "                topic_to_code.update(dict(zip(cessda_df['Code value'], cessda_df['Topic code'])))\n",
    "\n",
    "                # Map values to their corresponding codes\n",
    "                df = df.replace(topic_to_code)\n",
    "        \n",
    "        # Ensure the directory exists, create it if necessary\n",
    "        output_directory_path = mapped_csv_path + context_path + \"strict_consistency/\"\n",
    "        os.makedirs(output_directory_path, exist_ok=True)\n",
    "        \n",
    "        # Specify the full file path including the filename\n",
    "        out_file_path = os.path.join(output_directory_path, csv)\n",
    "        \n",
    "        # Save the DataFrame to a CSV file in the specified directory\n",
    "        df.to_csv(out_file_path, index=False)\n",
    "        \n",
    "        \n",
    "        ### SOFT CODE MAPPING\n",
    "        # Define a lambda function to map values\n",
    "        map_function = lambda x: next((k for k, v in soft_consistency_mapping.items() if x in v), x)\n",
    "\n",
    "        # Apply the lambda function to all elements in the DataFrame\n",
    "        df_soft = df.map(map_function)\n",
    "        \n",
    "        # Ensure the directory exists, create it if necessary for soft mapping\n",
    "        output_soft_mapping_directory_path = mapped_csv_path + context_path + \"soft_consistency/\"\n",
    "        os.makedirs(output_soft_mapping_directory_path, exist_ok=True)\n",
    "        \n",
    "        # Specify the full file path including the filename for soft mapping\n",
    "        out_soft_mapping_file_path = os.path.join(output_soft_mapping_directory_path, csv)\n",
    "        \n",
    "        # Save the DataFrame to a CSV file in the specified directory\n",
    "        df_soft.to_csv(out_soft_mapping_file_path, index=False)"
   ]
  },
  {
   "cell_type": "code",
   "execution_count": null,
   "id": "594c0a6e",
   "metadata": {},
   "outputs": [],
   "source": []
  },
  {
   "cell_type": "code",
   "execution_count": null,
   "id": "4b456079",
   "metadata": {},
   "outputs": [],
   "source": []
  },
  {
   "cell_type": "code",
   "execution_count": null,
   "id": "695ec489",
   "metadata": {},
   "outputs": [],
   "source": []
  },
  {
   "cell_type": "code",
   "execution_count": null,
   "id": "76b1e0a4",
   "metadata": {},
   "outputs": [],
   "source": []
  }
 ],
 "metadata": {
  "kernelspec": {
   "display_name": "Python 3 (ipykernel)",
   "language": "python",
   "name": "python3"
  },
  "language_info": {
   "codemirror_mode": {
    "name": "ipython",
    "version": 3
   },
   "file_extension": ".py",
   "mimetype": "text/x-python",
   "name": "python",
   "nbconvert_exporter": "python",
   "pygments_lexer": "ipython3",
   "version": "3.10.13"
  }
 },
 "nbformat": 4,
 "nbformat_minor": 5
}
