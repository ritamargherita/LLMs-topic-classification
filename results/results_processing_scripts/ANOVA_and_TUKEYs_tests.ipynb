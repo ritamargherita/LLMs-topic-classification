{
 "cells": [
  {
   "cell_type": "code",
   "execution_count": 42,
   "id": "27c3a079",
   "metadata": {},
   "outputs": [],
   "source": [
    "import pandas as pd\n",
    "import statsmodels.api as sm\n",
    "from statsmodels.stats.multicomp import pairwise_tukeyhsd\n",
    "from statsmodels.formula.api import ols"
   ]
  },
  {
   "cell_type": "code",
   "execution_count": 43,
   "id": "d8470007",
   "metadata": {},
   "outputs": [],
   "source": [
    "df = pd.read_csv('/Users/brain/Documents/GitHub/LLMs-topic-classification/results/statistics/NeedlemanWunsch_score_formatted_for_ANOVA.csv')"
   ]
  },
  {
   "cell_type": "code",
   "execution_count": 44,
   "id": "d1c7d975",
   "metadata": {},
   "outputs": [
    {
     "data": {
      "text/html": [
       "<div>\n",
       "<style scoped>\n",
       "    .dataframe tbody tr th:only-of-type {\n",
       "        vertical-align: middle;\n",
       "    }\n",
       "\n",
       "    .dataframe tbody tr th {\n",
       "        vertical-align: top;\n",
       "    }\n",
       "\n",
       "    .dataframe thead th {\n",
       "        text-align: right;\n",
       "    }\n",
       "</style>\n",
       "<table border=\"1\" class=\"dataframe\">\n",
       "  <thead>\n",
       "    <tr style=\"text-align: right;\">\n",
       "      <th></th>\n",
       "      <th>dataset</th>\n",
       "      <th>setting</th>\n",
       "      <th>softness</th>\n",
       "      <th>system</th>\n",
       "      <th>measurement</th>\n",
       "    </tr>\n",
       "  </thead>\n",
       "  <tbody>\n",
       "    <tr>\n",
       "      <th>0</th>\n",
       "      <td>d1</td>\n",
       "      <td>no-context</td>\n",
       "      <td>strict</td>\n",
       "      <td>ChatGPT</td>\n",
       "      <td>0.146541</td>\n",
       "    </tr>\n",
       "    <tr>\n",
       "      <th>1</th>\n",
       "      <td>d2</td>\n",
       "      <td>no-context</td>\n",
       "      <td>strict</td>\n",
       "      <td>ChatGPT</td>\n",
       "      <td>0.440476</td>\n",
       "    </tr>\n",
       "    <tr>\n",
       "      <th>2</th>\n",
       "      <td>d3</td>\n",
       "      <td>no-context</td>\n",
       "      <td>strict</td>\n",
       "      <td>ChatGPT</td>\n",
       "      <td>0.250000</td>\n",
       "    </tr>\n",
       "    <tr>\n",
       "      <th>3</th>\n",
       "      <td>d4</td>\n",
       "      <td>no-context</td>\n",
       "      <td>strict</td>\n",
       "      <td>ChatGPT</td>\n",
       "      <td>1.000000</td>\n",
       "    </tr>\n",
       "    <tr>\n",
       "      <th>4</th>\n",
       "      <td>d5</td>\n",
       "      <td>no-context</td>\n",
       "      <td>strict</td>\n",
       "      <td>ChatGPT</td>\n",
       "      <td>0.418182</td>\n",
       "    </tr>\n",
       "    <tr>\n",
       "      <th>...</th>\n",
       "      <td>...</td>\n",
       "      <td>...</td>\n",
       "      <td>...</td>\n",
       "      <td>...</td>\n",
       "      <td>...</td>\n",
       "    </tr>\n",
       "    <tr>\n",
       "      <th>95</th>\n",
       "      <td>d6</td>\n",
       "      <td>context</td>\n",
       "      <td>soft</td>\n",
       "      <td>GoogleGemini</td>\n",
       "      <td>0.074074</td>\n",
       "    </tr>\n",
       "    <tr>\n",
       "      <th>96</th>\n",
       "      <td>d7</td>\n",
       "      <td>context</td>\n",
       "      <td>soft</td>\n",
       "      <td>GoogleGemini</td>\n",
       "      <td>0.250000</td>\n",
       "    </tr>\n",
       "    <tr>\n",
       "      <th>97</th>\n",
       "      <td>d8</td>\n",
       "      <td>context</td>\n",
       "      <td>soft</td>\n",
       "      <td>GoogleGemini</td>\n",
       "      <td>0.674074</td>\n",
       "    </tr>\n",
       "    <tr>\n",
       "      <th>98</th>\n",
       "      <td>d9</td>\n",
       "      <td>context</td>\n",
       "      <td>soft</td>\n",
       "      <td>GoogleGemini</td>\n",
       "      <td>0.889474</td>\n",
       "    </tr>\n",
       "    <tr>\n",
       "      <th>99</th>\n",
       "      <td>d10</td>\n",
       "      <td>context</td>\n",
       "      <td>soft</td>\n",
       "      <td>GoogleGemini</td>\n",
       "      <td>0.853922</td>\n",
       "    </tr>\n",
       "  </tbody>\n",
       "</table>\n",
       "<p>100 rows × 5 columns</p>\n",
       "</div>"
      ],
      "text/plain": [
       "   dataset     setting softness        system  measurement\n",
       "0       d1  no-context   strict       ChatGPT     0.146541\n",
       "1       d2  no-context   strict       ChatGPT     0.440476\n",
       "2       d3  no-context   strict       ChatGPT     0.250000\n",
       "3       d4  no-context   strict       ChatGPT     1.000000\n",
       "4       d5  no-context   strict       ChatGPT     0.418182\n",
       "..     ...         ...      ...           ...          ...\n",
       "95      d6     context     soft  GoogleGemini     0.074074\n",
       "96      d7     context     soft  GoogleGemini     0.250000\n",
       "97      d8     context     soft  GoogleGemini     0.674074\n",
       "98      d9     context     soft  GoogleGemini     0.889474\n",
       "99     d10     context     soft  GoogleGemini     0.853922\n",
       "\n",
       "[100 rows x 5 columns]"
      ]
     },
     "execution_count": 44,
     "metadata": {},
     "output_type": "execute_result"
    }
   ],
   "source": [
    "df"
   ]
  },
  {
   "cell_type": "code",
   "execution_count": 3,
   "id": "0bdffe31",
   "metadata": {},
   "outputs": [],
   "source": [
    "# Convert 'measurement' column to numeric\n",
    "df['measurement'] = pd.to_numeric(df['measurement'])"
   ]
  },
  {
   "cell_type": "code",
   "execution_count": 15,
   "id": "bb3f829f",
   "metadata": {},
   "outputs": [],
   "source": [
    "### test ANOVA everything"
   ]
  },
  {
   "cell_type": "code",
   "execution_count": 17,
   "id": "5c76f5e7",
   "metadata": {},
   "outputs": [],
   "source": [
    "# Fit the ANOVA model\n",
    "model = ols('measurement ~ dataset + setting + softness + system', data=df).fit()"
   ]
  },
  {
   "cell_type": "code",
   "execution_count": 18,
   "id": "38dafc82",
   "metadata": {},
   "outputs": [],
   "source": [
    "anova_table = sm.stats.anova_lm(model, typ=2)"
   ]
  },
  {
   "cell_type": "code",
   "execution_count": 19,
   "id": "7e46960c",
   "metadata": {},
   "outputs": [
    {
     "data": {
      "text/html": [
       "<div>\n",
       "<style scoped>\n",
       "    .dataframe tbody tr th:only-of-type {\n",
       "        vertical-align: middle;\n",
       "    }\n",
       "\n",
       "    .dataframe tbody tr th {\n",
       "        vertical-align: top;\n",
       "    }\n",
       "\n",
       "    .dataframe thead th {\n",
       "        text-align: right;\n",
       "    }\n",
       "</style>\n",
       "<table border=\"1\" class=\"dataframe\">\n",
       "  <thead>\n",
       "    <tr style=\"text-align: right;\">\n",
       "      <th></th>\n",
       "      <th>sum_sq</th>\n",
       "      <th>df</th>\n",
       "      <th>F</th>\n",
       "      <th>PR(&gt;F)</th>\n",
       "    </tr>\n",
       "  </thead>\n",
       "  <tbody>\n",
       "    <tr>\n",
       "      <th>dataset</th>\n",
       "      <td>3.784309</td>\n",
       "      <td>9.0</td>\n",
       "      <td>2.195892</td>\n",
       "      <td>0.029861</td>\n",
       "    </tr>\n",
       "    <tr>\n",
       "      <th>setting</th>\n",
       "      <td>0.597158</td>\n",
       "      <td>1.0</td>\n",
       "      <td>3.118574</td>\n",
       "      <td>0.080953</td>\n",
       "    </tr>\n",
       "    <tr>\n",
       "      <th>softness</th>\n",
       "      <td>0.261063</td>\n",
       "      <td>1.0</td>\n",
       "      <td>1.363365</td>\n",
       "      <td>0.246182</td>\n",
       "    </tr>\n",
       "    <tr>\n",
       "      <th>system</th>\n",
       "      <td>4.918032</td>\n",
       "      <td>2.0</td>\n",
       "      <td>12.841870</td>\n",
       "      <td>0.000013</td>\n",
       "    </tr>\n",
       "    <tr>\n",
       "      <th>Residual</th>\n",
       "      <td>16.467647</td>\n",
       "      <td>86.0</td>\n",
       "      <td>NaN</td>\n",
       "      <td>NaN</td>\n",
       "    </tr>\n",
       "  </tbody>\n",
       "</table>\n",
       "</div>"
      ],
      "text/plain": [
       "             sum_sq    df          F    PR(>F)\n",
       "dataset    3.784309   9.0   2.195892  0.029861\n",
       "setting    0.597158   1.0   3.118574  0.080953\n",
       "softness   0.261063   1.0   1.363365  0.246182\n",
       "system     4.918032   2.0  12.841870  0.000013\n",
       "Residual  16.467647  86.0        NaN       NaN"
      ]
     },
     "execution_count": 19,
     "metadata": {},
     "output_type": "execute_result"
    }
   ],
   "source": [
    "anova_table"
   ]
  },
  {
   "cell_type": "code",
   "execution_count": 20,
   "id": "6145e120",
   "metadata": {},
   "outputs": [
    {
     "data": {
      "text/plain": [
       "True"
      ]
     },
     "execution_count": 20,
     "metadata": {},
     "output_type": "execute_result"
    }
   ],
   "source": [
    "0.029861 < 0.05 # dataset"
   ]
  },
  {
   "cell_type": "code",
   "execution_count": 21,
   "id": "2fb786f8",
   "metadata": {},
   "outputs": [
    {
     "data": {
      "text/plain": [
       "True"
      ]
     },
     "execution_count": 21,
     "metadata": {},
     "output_type": "execute_result"
    }
   ],
   "source": [
    "0.000013 < 0.05 # system"
   ]
  },
  {
   "cell_type": "code",
   "execution_count": null,
   "id": "5bc6cd63",
   "metadata": {},
   "outputs": [],
   "source": [
    "# Tukey's HSD test"
   ]
  },
  {
   "cell_type": "code",
   "execution_count": 27,
   "id": "742f065d",
   "metadata": {},
   "outputs": [],
   "source": [
    "# Perform Tukey's HSD test\n",
    "tukey_results_system = pairwise_tukeyhsd(df['measurement'], df['dataset'])"
   ]
  },
  {
   "cell_type": "code",
   "execution_count": 28,
   "id": "7fbd3652",
   "metadata": {},
   "outputs": [
    {
     "name": "stdout",
     "output_type": "stream",
     "text": [
      "Multiple Comparison of Means - Tukey HSD, FWER=0.05\n",
      "===================================================\n",
      "group1 group2 meandiff p-adj   lower  upper  reject\n",
      "---------------------------------------------------\n",
      "    d1    d10   0.2729 0.9629  -0.439 0.9847  False\n",
      "    d1     d2   0.3857 0.7592 -0.3262 1.0975  False\n",
      "    d1     d3   0.2445  0.982 -0.4674 0.9563  False\n",
      "    d1     d4   0.3728 0.7931 -0.3391 1.0847  False\n",
      "    d1     d5  -0.1347 0.9998 -0.8465 0.5772  False\n",
      "    d1     d6   0.3691 0.8024 -0.3428  1.081  False\n",
      "    d1     d7   0.3986 0.7229 -0.3132 1.1105  False\n",
      "    d1     d8   0.4818 0.4671   -0.23 1.1937  False\n",
      "    d1     d9   0.0393    1.0 -0.6726 0.7511  False\n",
      "   d10     d2   0.1128    1.0 -0.5991 0.8246  False\n",
      "   d10     d3  -0.0284    1.0 -0.7403 0.6834  False\n",
      "   d10     d4   0.0999    1.0  -0.612 0.8118  False\n",
      "   d10     d5  -0.4076 0.6969 -1.1194 0.3043  False\n",
      "   d10     d6   0.0962    1.0 -0.6157 0.8081  False\n",
      "   d10     d7   0.1257 0.9999 -0.5861 0.8376  False\n",
      "   d10     d8   0.2089 0.9941 -0.5029 0.9208  False\n",
      "   d10     d9  -0.2336 0.9869 -0.9455 0.4783  False\n",
      "    d2     d3  -0.1412 0.9997  -0.853 0.5707  False\n",
      "    d2     d4  -0.0129    1.0 -0.7247  0.699  False\n",
      "    d2     d5  -0.5203 0.3553 -1.2322 0.1915  False\n",
      "    d2     d6  -0.0166    1.0 -0.7284 0.6953  False\n",
      "    d2     d7    0.013    1.0 -0.6989 0.7248  False\n",
      "    d2     d8   0.0962    1.0 -0.6157  0.808  False\n",
      "    d2     d9  -0.3464 0.8548 -1.0582 0.3655  False\n",
      "    d3     d4   0.1283 0.9999 -0.5835 0.8402  False\n",
      "    d3     d5  -0.3791 0.7767  -1.091 0.3327  False\n",
      "    d3     d6   0.1246 0.9999 -0.5872 0.8365  False\n",
      "    d3     d7   0.1542 0.9994 -0.5577  0.866  False\n",
      "    d3     d8   0.2374 0.9853 -0.4745 0.9492  False\n",
      "    d3     d9  -0.2052 0.9948  -0.917 0.5067  False\n",
      "    d4     d5  -0.5075 0.3912 -1.2193 0.2044  False\n",
      "    d4     d6  -0.0037    1.0 -0.7156 0.7082  False\n",
      "    d4     d7   0.0258    1.0  -0.686 0.7377  False\n",
      "    d4     d8    0.109    1.0 -0.6028 0.8209  False\n",
      "    d4     d9  -0.3335 0.8806 -1.0454 0.3783  False\n",
      "    d5     d6   0.5038 0.4019 -0.2081 1.2156  False\n",
      "    d5     d7   0.5333 0.3208 -0.1786 1.2452  False\n",
      "    d5     d8   0.6165  0.149 -0.0954 1.3284  False\n",
      "    d5     d9    0.174 0.9985 -0.5379 0.8858  False\n",
      "    d6     d7   0.0295    1.0 -0.6823 0.7414  False\n",
      "    d6     d8   0.1127    1.0 -0.5991 0.8246  False\n",
      "    d6     d9  -0.3298 0.8875 -1.0417 0.3821  False\n",
      "    d7     d8   0.0832    1.0 -0.6287 0.7951  False\n",
      "    d7     d9  -0.3593 0.8259 -1.0712 0.3525  False\n",
      "    d8     d9  -0.4425 0.5896 -1.1544 0.2693  False\n",
      "---------------------------------------------------\n"
     ]
    }
   ],
   "source": [
    "print(tukey_results_system)"
   ]
  },
  {
   "cell_type": "code",
   "execution_count": 46,
   "id": "8329c270",
   "metadata": {},
   "outputs": [],
   "source": [
    "# Perform Tukey's HSD test\n",
    "tukey_results_system = pairwise_tukeyhsd(df_no_context['measurement'], df_no_context['system'])"
   ]
  },
  {
   "cell_type": "code",
   "execution_count": 47,
   "id": "fba7e069",
   "metadata": {},
   "outputs": [
    {
     "name": "stdout",
     "output_type": "stream",
     "text": [
      "     Multiple Comparison of Means - Tukey HSD, FWER=0.05      \n",
      "==============================================================\n",
      "  group1      group2    meandiff p-adj   lower   upper  reject\n",
      "--------------------------------------------------------------\n",
      "   ChatGPT   GoogleBard  -0.4844 0.0066 -0.8506 -0.1182   True\n",
      "   ChatGPT GoogleGemini   0.2255 0.3072 -0.1407  0.5917  False\n",
      "GoogleBard GoogleGemini   0.7098 0.0001  0.3436  1.0761   True\n",
      "--------------------------------------------------------------\n"
     ]
    }
   ],
   "source": [
    "print(tukey_results_system)"
   ]
  },
  {
   "cell_type": "code",
   "execution_count": null,
   "id": "40cac981",
   "metadata": {},
   "outputs": [],
   "source": []
  },
  {
   "cell_type": "code",
   "execution_count": null,
   "id": "ee8b80db",
   "metadata": {},
   "outputs": [],
   "source": []
  },
  {
   "cell_type": "code",
   "execution_count": 4,
   "id": "5f9f306d",
   "metadata": {},
   "outputs": [],
   "source": [
    "### test ANOVA for no-context only"
   ]
  },
  {
   "cell_type": "code",
   "execution_count": 5,
   "id": "f8f7f10a",
   "metadata": {},
   "outputs": [],
   "source": [
    "df_no_context = df[df['setting'] == 'no-context']"
   ]
  },
  {
   "cell_type": "code",
   "execution_count": 6,
   "id": "ca1b5eef",
   "metadata": {},
   "outputs": [],
   "source": [
    "# Fit the ANOVA model\n",
    "model = ols('measurement ~ dataset + softness + system', data=df_no_context).fit()"
   ]
  },
  {
   "cell_type": "code",
   "execution_count": 7,
   "id": "11beac3c",
   "metadata": {},
   "outputs": [],
   "source": [
    "anova_table = sm.stats.anova_lm(model, typ=2)"
   ]
  },
  {
   "cell_type": "code",
   "execution_count": 8,
   "id": "b0f66864",
   "metadata": {},
   "outputs": [
    {
     "data": {
      "text/html": [
       "<div>\n",
       "<style scoped>\n",
       "    .dataframe tbody tr th:only-of-type {\n",
       "        vertical-align: middle;\n",
       "    }\n",
       "\n",
       "    .dataframe tbody tr th {\n",
       "        vertical-align: top;\n",
       "    }\n",
       "\n",
       "    .dataframe thead th {\n",
       "        text-align: right;\n",
       "    }\n",
       "</style>\n",
       "<table border=\"1\" class=\"dataframe\">\n",
       "  <thead>\n",
       "    <tr style=\"text-align: right;\">\n",
       "      <th></th>\n",
       "      <th>sum_sq</th>\n",
       "      <th>df</th>\n",
       "      <th>F</th>\n",
       "      <th>PR(&gt;F)</th>\n",
       "    </tr>\n",
       "  </thead>\n",
       "  <tbody>\n",
       "    <tr>\n",
       "      <th>dataset</th>\n",
       "      <td>7.420205</td>\n",
       "      <td>9.0</td>\n",
       "      <td>6.871350</td>\n",
       "      <td>3.085552e-06</td>\n",
       "    </tr>\n",
       "    <tr>\n",
       "      <th>softness</th>\n",
       "      <td>0.140795</td>\n",
       "      <td>1.0</td>\n",
       "      <td>1.173430</td>\n",
       "      <td>2.842236e-01</td>\n",
       "    </tr>\n",
       "    <tr>\n",
       "      <th>system</th>\n",
       "      <td>5.262186</td>\n",
       "      <td>2.0</td>\n",
       "      <td>21.928293</td>\n",
       "      <td>1.874666e-07</td>\n",
       "    </tr>\n",
       "    <tr>\n",
       "      <th>Residual</th>\n",
       "      <td>5.639352</td>\n",
       "      <td>47.0</td>\n",
       "      <td>NaN</td>\n",
       "      <td>NaN</td>\n",
       "    </tr>\n",
       "  </tbody>\n",
       "</table>\n",
       "</div>"
      ],
      "text/plain": [
       "            sum_sq    df          F        PR(>F)\n",
       "dataset   7.420205   9.0   6.871350  3.085552e-06\n",
       "softness  0.140795   1.0   1.173430  2.842236e-01\n",
       "system    5.262186   2.0  21.928293  1.874666e-07\n",
       "Residual  5.639352  47.0        NaN           NaN"
      ]
     },
     "execution_count": 8,
     "metadata": {},
     "output_type": "execute_result"
    }
   ],
   "source": [
    "anova_table"
   ]
  },
  {
   "cell_type": "code",
   "execution_count": 12,
   "id": "2321db65",
   "metadata": {},
   "outputs": [
    {
     "data": {
      "text/plain": [
       "True"
      ]
     },
     "execution_count": 12,
     "metadata": {},
     "output_type": "execute_result"
    }
   ],
   "source": [
    "3.085552e-06 < 0.05 # dataset"
   ]
  },
  {
   "cell_type": "code",
   "execution_count": 13,
   "id": "3920e8af",
   "metadata": {},
   "outputs": [
    {
     "data": {
      "text/plain": [
       "False"
      ]
     },
     "execution_count": 13,
     "metadata": {},
     "output_type": "execute_result"
    }
   ],
   "source": [
    "2.842236e-01 < 0.05 # softness"
   ]
  },
  {
   "cell_type": "code",
   "execution_count": 14,
   "id": "eefb7849",
   "metadata": {},
   "outputs": [
    {
     "data": {
      "text/plain": [
       "True"
      ]
     },
     "execution_count": 14,
     "metadata": {},
     "output_type": "execute_result"
    }
   ],
   "source": [
    "1.874666e-07 < 0.05 # system"
   ]
  },
  {
   "cell_type": "code",
   "execution_count": 22,
   "id": "bb56f9f2",
   "metadata": {},
   "outputs": [],
   "source": [
    "# Tukey's HSD test"
   ]
  },
  {
   "cell_type": "code",
   "execution_count": 23,
   "id": "4ed89ce8",
   "metadata": {},
   "outputs": [],
   "source": [
    "# Perform Tukey's HSD test\n",
    "tukey_results_system = pairwise_tukeyhsd(df_no_context['measurement'], df_no_context['system'])"
   ]
  },
  {
   "cell_type": "code",
   "execution_count": 24,
   "id": "da247669",
   "metadata": {},
   "outputs": [
    {
     "name": "stdout",
     "output_type": "stream",
     "text": [
      "     Multiple Comparison of Means - Tukey HSD, FWER=0.05      \n",
      "==============================================================\n",
      "  group1      group2    meandiff p-adj   lower   upper  reject\n",
      "--------------------------------------------------------------\n",
      "   ChatGPT   GoogleBard  -0.4844 0.0066 -0.8506 -0.1182   True\n",
      "   ChatGPT GoogleGemini   0.2255 0.3072 -0.1407  0.5917  False\n",
      "GoogleBard GoogleGemini   0.7098 0.0001  0.3436  1.0761   True\n",
      "--------------------------------------------------------------\n"
     ]
    }
   ],
   "source": [
    "print(tukey_results_system)"
   ]
  },
  {
   "cell_type": "code",
   "execution_count": 25,
   "id": "848f44d3",
   "metadata": {},
   "outputs": [],
   "source": [
    "# Perform Tukey's HSD test\n",
    "tukey_results_softness = pairwise_tukeyhsd(df_no_context['measurement'], df_no_context['softness'])"
   ]
  },
  {
   "cell_type": "code",
   "execution_count": 26,
   "id": "d3f04422",
   "metadata": {},
   "outputs": [
    {
     "name": "stdout",
     "output_type": "stream",
     "text": [
      "Multiple Comparison of Means - Tukey HSD, FWER=0.05\n",
      "==================================================\n",
      "group1 group2 meandiff p-adj  lower  upper  reject\n",
      "--------------------------------------------------\n",
      "  soft strict  -0.0969 0.507 -0.3874 0.1936  False\n",
      "--------------------------------------------------\n"
     ]
    }
   ],
   "source": [
    "print(tukey_results_softness)"
   ]
  },
  {
   "cell_type": "code",
   "execution_count": null,
   "id": "8baa2a2b",
   "metadata": {},
   "outputs": [],
   "source": []
  },
  {
   "cell_type": "code",
   "execution_count": null,
   "id": "f99fcf2d",
   "metadata": {},
   "outputs": [],
   "source": []
  },
  {
   "cell_type": "code",
   "execution_count": null,
   "id": "bcb962c4",
   "metadata": {},
   "outputs": [],
   "source": []
  },
  {
   "cell_type": "code",
   "execution_count": 31,
   "id": "82df404c",
   "metadata": {},
   "outputs": [],
   "source": [
    "### test ANOVA for context only"
   ]
  },
  {
   "cell_type": "code",
   "execution_count": 32,
   "id": "e751f328",
   "metadata": {},
   "outputs": [],
   "source": [
    "df_context = df[df['setting'] == 'context']"
   ]
  },
  {
   "cell_type": "code",
   "execution_count": 33,
   "id": "df9daccd",
   "metadata": {},
   "outputs": [],
   "source": [
    "# Fit the ANOVA model\n",
    "model = ols('measurement ~ dataset + softness + system', data=df_context).fit()"
   ]
  },
  {
   "cell_type": "code",
   "execution_count": 34,
   "id": "712986ab",
   "metadata": {},
   "outputs": [],
   "source": [
    "anova_table = sm.stats.anova_lm(model, typ=2)"
   ]
  },
  {
   "cell_type": "code",
   "execution_count": 35,
   "id": "1b448d5c",
   "metadata": {},
   "outputs": [
    {
     "data": {
      "text/html": [
       "<div>\n",
       "<style scoped>\n",
       "    .dataframe tbody tr th:only-of-type {\n",
       "        vertical-align: middle;\n",
       "    }\n",
       "\n",
       "    .dataframe tbody tr th {\n",
       "        vertical-align: top;\n",
       "    }\n",
       "\n",
       "    .dataframe thead th {\n",
       "        text-align: right;\n",
       "    }\n",
       "</style>\n",
       "<table border=\"1\" class=\"dataframe\">\n",
       "  <thead>\n",
       "    <tr style=\"text-align: right;\">\n",
       "      <th></th>\n",
       "      <th>sum_sq</th>\n",
       "      <th>df</th>\n",
       "      <th>F</th>\n",
       "      <th>PR(&gt;F)</th>\n",
       "    </tr>\n",
       "  </thead>\n",
       "  <tbody>\n",
       "    <tr>\n",
       "      <th>dataset</th>\n",
       "      <td>1.942665</td>\n",
       "      <td>9.0</td>\n",
       "      <td>1.237235</td>\n",
       "      <td>0.313054</td>\n",
       "    </tr>\n",
       "    <tr>\n",
       "      <th>softness</th>\n",
       "      <td>0.121323</td>\n",
       "      <td>1.0</td>\n",
       "      <td>0.695408</td>\n",
       "      <td>0.411389</td>\n",
       "    </tr>\n",
       "    <tr>\n",
       "      <th>system</th>\n",
       "      <td>0.019562</td>\n",
       "      <td>1.0</td>\n",
       "      <td>0.112125</td>\n",
       "      <td>0.740233</td>\n",
       "    </tr>\n",
       "    <tr>\n",
       "      <th>Residual</th>\n",
       "      <td>4.884963</td>\n",
       "      <td>28.0</td>\n",
       "      <td>NaN</td>\n",
       "      <td>NaN</td>\n",
       "    </tr>\n",
       "  </tbody>\n",
       "</table>\n",
       "</div>"
      ],
      "text/plain": [
       "            sum_sq    df         F    PR(>F)\n",
       "dataset   1.942665   9.0  1.237235  0.313054\n",
       "softness  0.121323   1.0  0.695408  0.411389\n",
       "system    0.019562   1.0  0.112125  0.740233\n",
       "Residual  4.884963  28.0       NaN       NaN"
      ]
     },
     "execution_count": 35,
     "metadata": {},
     "output_type": "execute_result"
    }
   ],
   "source": [
    "anova_table"
   ]
  },
  {
   "cell_type": "code",
   "execution_count": 36,
   "id": "81cfb6fc",
   "metadata": {},
   "outputs": [],
   "source": [
    "# Tukey's HSD test"
   ]
  },
  {
   "cell_type": "code",
   "execution_count": 37,
   "id": "f02f62d0",
   "metadata": {},
   "outputs": [],
   "source": [
    "# Perform Tukey's HSD test\n",
    "tukey_results_system = pairwise_tukeyhsd(df_context['measurement'], df_context['system'])"
   ]
  },
  {
   "cell_type": "code",
   "execution_count": 38,
   "id": "eefb2499",
   "metadata": {},
   "outputs": [
    {
     "name": "stdout",
     "output_type": "stream",
     "text": [
      "   Multiple Comparison of Means - Tukey HSD, FWER=0.05   \n",
      "=========================================================\n",
      " group1    group2    meandiff p-adj  lower  upper  reject\n",
      "---------------------------------------------------------\n",
      "ChatGPT GoogleGemini  -0.0442 0.7454 -0.318 0.2295  False\n",
      "---------------------------------------------------------\n"
     ]
    }
   ],
   "source": [
    "print(tukey_results_system)"
   ]
  },
  {
   "cell_type": "code",
   "execution_count": 39,
   "id": "dfc8e885",
   "metadata": {},
   "outputs": [],
   "source": [
    "# Perform Tukey's HSD test\n",
    "tukey_results_system = pairwise_tukeyhsd(df_context['measurement'], df_context['softness'])"
   ]
  },
  {
   "cell_type": "code",
   "execution_count": 40,
   "id": "15bc06b0",
   "metadata": {},
   "outputs": [
    {
     "name": "stdout",
     "output_type": "stream",
     "text": [
      "Multiple Comparison of Means - Tukey HSD, FWER=0.05\n",
      "==================================================\n",
      "group1 group2 meandiff p-adj  lower  upper  reject\n",
      "--------------------------------------------------\n",
      "  soft strict  -0.1101 0.417 -0.3819 0.1616  False\n",
      "--------------------------------------------------\n"
     ]
    }
   ],
   "source": [
    "print(tukey_results_system)"
   ]
  },
  {
   "cell_type": "code",
   "execution_count": null,
   "id": "22953d9e",
   "metadata": {},
   "outputs": [],
   "source": []
  }
 ],
 "metadata": {
  "kernelspec": {
   "display_name": "Python 3 (ipykernel)",
   "language": "python",
   "name": "python3"
  },
  "language_info": {
   "codemirror_mode": {
    "name": "ipython",
    "version": 3
   },
   "file_extension": ".py",
   "mimetype": "text/x-python",
   "name": "python",
   "nbconvert_exporter": "python",
   "pygments_lexer": "ipython3",
   "version": "3.10.13"
  }
 },
 "nbformat": 4,
 "nbformat_minor": 5
}
